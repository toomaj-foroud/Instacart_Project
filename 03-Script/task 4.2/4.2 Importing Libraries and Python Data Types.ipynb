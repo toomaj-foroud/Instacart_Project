{
 "cells": [
  {
   "cell_type": "markdown",
   "id": "b1982ff9",
   "metadata": {},
   "source": [
    "# 01. Importing Libraries"
   ]
  },
  {
   "cell_type": "code",
   "execution_count": 3,
   "id": "c1cbb957",
   "metadata": {},
   "outputs": [],
   "source": [
    "# Import Libraries\n",
    "\n",
    "import pandas as pd\n",
    "import numpy as np\n",
    "import os"
   ]
  },
  {
   "cell_type": "markdown",
   "id": "8da4f347",
   "metadata": {},
   "source": [
    "# 02. Data Types"
   ]
  },
  {
   "cell_type": "code",
   "execution_count": 16,
   "id": "c01cc891",
   "metadata": {},
   "outputs": [
    {
     "name": "stdout",
     "output_type": "stream",
     "text": [
      "X =  100\n",
      "Y =  100\n",
      "Z =  100\n"
     ]
    }
   ],
   "source": [
    "# part 7\n",
    "X = 80 + 20\n",
    "Y = 50 + 50\n",
    "Z = 124 - 24\n",
    "print('X = ', X)\n",
    "print('Y = ', Y)\n",
    "print('Z = ', Z)"
   ]
  },
  {
   "cell_type": "code",
   "execution_count": 17,
   "id": "133c3a96",
   "metadata": {},
   "outputs": [
    {
     "name": "stdout",
     "output_type": "stream",
     "text": [
      "C =  5.0\n"
     ]
    }
   ],
   "source": [
    "# part 8\n",
    "A = 6.25\n",
    "B = 1.25\n",
    "C = A / B\n",
    "print('C = ', C)"
   ]
  },
  {
   "cell_type": "code",
   "execution_count": 18,
   "id": "203367e9",
   "metadata": {},
   "outputs": [
    {
     "name": "stdout",
     "output_type": "stream",
     "text": [
      "Skyscraper\n"
     ]
    }
   ],
   "source": [
    "# part 9\n",
    "W = 'Sky'\n",
    "U = 'scraper'\n",
    "V = W + U\n",
    "print(V)"
   ]
  },
  {
   "cell_type": "code",
   "execution_count": 20,
   "id": "c503456b",
   "metadata": {},
   "outputs": [
    {
     "name": "stdout",
     "output_type": "stream",
     "text": [
      "Hi dear friend\n"
     ]
    }
   ],
   "source": [
    "# part 10.1\n",
    "aa = 'Hi '\n",
    "bb = 'dear '\n",
    "cc = 'friend.'\n",
    "\n",
    "print(aa + bb + cc)"
   ]
  },
  {
   "cell_type": "code",
   "execution_count": 21,
   "id": "8734c0e4",
   "metadata": {},
   "outputs": [
    {
     "name": "stdout",
     "output_type": "stream",
     "text": [
      "I like Python.\n"
     ]
    }
   ],
   "source": [
    "# part 10.2\n",
    "xx = 'I '\n",
    "yy = 'like '\n",
    "zz = 'Python.'\n",
    "\n",
    "print(xx + yy + zz)"
   ]
  },
  {
   "cell_type": "code",
   "execution_count": 23,
   "id": "3c7ed43b",
   "metadata": {},
   "outputs": [
    {
     "name": "stdout",
     "output_type": "stream",
     "text": [
      "wake-up wake-up wake-up wake-up wake-up wake-up wake-up wake-up wake-up wake-up wake-up wake-up wake-up wake-up wake-up wake-up wake-up wake-up wake-up wake-up wake-up wake-up wake-up wake-up wake-up wake-up wake-up wake-up wake-up wake-up wake-up wake-up wake-up wake-up wake-up wake-up wake-up wake-up wake-up wake-up wake-up wake-up wake-up wake-up wake-up wake-up wake-up wake-up wake-up wake-up wake-up wake-up wake-up wake-up wake-up wake-up wake-up wake-up wake-up wake-up wake-up wake-up wake-up wake-up wake-up wake-up wake-up wake-up wake-up wake-up wake-up wake-up wake-up wake-up wake-up wake-up wake-up wake-up wake-up wake-up wake-up wake-up wake-up wake-up wake-up wake-up wake-up wake-up wake-up wake-up wake-up wake-up wake-up wake-up wake-up wake-up wake-up wake-up wake-up wake-up \n"
     ]
    }
   ],
   "source": [
    "# Bonus Task\n",
    "my_string = 'wake-up '\n",
    "print(my_string * 100)"
   ]
  },
  {
   "cell_type": "code",
   "execution_count": null,
   "id": "dac7c251",
   "metadata": {},
   "outputs": [],
   "source": []
  }
 ],
 "metadata": {
  "kernelspec": {
   "display_name": "Python 3 (ipykernel)",
   "language": "python",
   "name": "python3"
  },
  "language_info": {
   "codemirror_mode": {
    "name": "ipython",
    "version": 3
   },
   "file_extension": ".py",
   "mimetype": "text/x-python",
   "name": "python",
   "nbconvert_exporter": "python",
   "pygments_lexer": "ipython3",
   "version": "3.9.12"
  }
 },
 "nbformat": 4,
 "nbformat_minor": 5
}
