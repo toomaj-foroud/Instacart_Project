{
 "cells": [
  {
   "cell_type": "code",
   "execution_count": 1,
   "id": "ffb11255",
   "metadata": {},
   "outputs": [],
   "source": [
    "# Import libraries\n",
    "import numpy as np\n",
    "import pandas as pd\n",
    "import os\n",
    "import scipy\n",
    "import seaborn as sns\n",
    "import matplotlib.pyplot as plt"
   ]
  },
  {
   "cell_type": "code",
   "execution_count": 2,
   "id": "e8725d45",
   "metadata": {},
   "outputs": [
    {
     "data": {
      "text/html": [
       "<div>\n",
       "<style scoped>\n",
       "    .dataframe tbody tr th:only-of-type {\n",
       "        vertical-align: middle;\n",
       "    }\n",
       "\n",
       "    .dataframe tbody tr th {\n",
       "        vertical-align: top;\n",
       "    }\n",
       "\n",
       "    .dataframe thead th {\n",
       "        text-align: right;\n",
       "    }\n",
       "</style>\n",
       "<table border=\"1\" class=\"dataframe\">\n",
       "  <thead>\n",
       "    <tr style=\"text-align: right;\">\n",
       "      <th></th>\n",
       "      <th>user_id</th>\n",
       "      <th>gender</th>\n",
       "      <th>state</th>\n",
       "      <th>age</th>\n",
       "      <th>date_joined</th>\n",
       "      <th>number_of_dependants</th>\n",
       "      <th>family_status</th>\n",
       "      <th>income</th>\n",
       "      <th>order_id</th>\n",
       "      <th>order_number</th>\n",
       "      <th>order_day_of_week</th>\n",
       "      <th>order_hour_of_day</th>\n",
       "      <th>days_since_prior_order</th>\n",
       "      <th>product_id</th>\n",
       "      <th>product_name</th>\n",
       "      <th>aisle_id</th>\n",
       "      <th>department_id</th>\n",
       "      <th>prices</th>\n",
       "      <th>_merge</th>\n",
       "      <th>price_range_loc</th>\n",
       "      <th>busiest_day</th>\n",
       "      <th>busiest_days</th>\n",
       "      <th>busiest_period_of_day</th>\n",
       "      <th>max_order</th>\n",
       "      <th>loyalty_flag</th>\n",
       "      <th>mean_prder_price</th>\n",
       "      <th>spending_flag</th>\n",
       "      <th>order_frequency</th>\n",
       "      <th>frequency_flag</th>\n",
       "      <th>region</th>\n",
       "      <th>activity_flag</th>\n",
       "      <th>age_group</th>\n",
       "      <th>income_group</th>\n",
       "      <th>goods_group</th>\n",
       "    </tr>\n",
       "  </thead>\n",
       "  <tbody>\n",
       "    <tr>\n",
       "      <th>0</th>\n",
       "      <td>26711</td>\n",
       "      <td>Female</td>\n",
       "      <td>Missouri</td>\n",
       "      <td>48</td>\n",
       "      <td>1/1/2017</td>\n",
       "      <td>3</td>\n",
       "      <td>married</td>\n",
       "      <td>165665</td>\n",
       "      <td>2543867</td>\n",
       "      <td>5</td>\n",
       "      <td>1</td>\n",
       "      <td>9</td>\n",
       "      <td>30</td>\n",
       "      <td>196</td>\n",
       "      <td>Soda</td>\n",
       "      <td>77</td>\n",
       "      <td>7</td>\n",
       "      <td>9</td>\n",
       "      <td>both</td>\n",
       "      <td>Mid-range product</td>\n",
       "      <td>Regularly busy</td>\n",
       "      <td>Busiest days</td>\n",
       "      <td>Most orders</td>\n",
       "      <td>8</td>\n",
       "      <td>New_customer</td>\n",
       "      <td>7.988889</td>\n",
       "      <td>Low spender</td>\n",
       "      <td>19</td>\n",
       "      <td>Regular customer</td>\n",
       "      <td>Midwest_region</td>\n",
       "      <td>High_activity</td>\n",
       "      <td>40-50</td>\n",
       "      <td>150k-175k</td>\n",
       "      <td>Beverages</td>\n",
       "    </tr>\n",
       "    <tr>\n",
       "      <th>1</th>\n",
       "      <td>26711</td>\n",
       "      <td>Female</td>\n",
       "      <td>Missouri</td>\n",
       "      <td>48</td>\n",
       "      <td>1/1/2017</td>\n",
       "      <td>3</td>\n",
       "      <td>married</td>\n",
       "      <td>165665</td>\n",
       "      <td>1285508</td>\n",
       "      <td>7</td>\n",
       "      <td>5</td>\n",
       "      <td>15</td>\n",
       "      <td>11</td>\n",
       "      <td>196</td>\n",
       "      <td>Soda</td>\n",
       "      <td>77</td>\n",
       "      <td>7</td>\n",
       "      <td>9</td>\n",
       "      <td>both</td>\n",
       "      <td>Mid-range product</td>\n",
       "      <td>Regularly busy</td>\n",
       "      <td>Regularly busy</td>\n",
       "      <td>Most orders</td>\n",
       "      <td>8</td>\n",
       "      <td>New_customer</td>\n",
       "      <td>7.988889</td>\n",
       "      <td>Low spender</td>\n",
       "      <td>19</td>\n",
       "      <td>Regular customer</td>\n",
       "      <td>Midwest_region</td>\n",
       "      <td>High_activity</td>\n",
       "      <td>40-50</td>\n",
       "      <td>150k-175k</td>\n",
       "      <td>Beverages</td>\n",
       "    </tr>\n",
       "    <tr>\n",
       "      <th>2</th>\n",
       "      <td>26711</td>\n",
       "      <td>Female</td>\n",
       "      <td>Missouri</td>\n",
       "      <td>48</td>\n",
       "      <td>1/1/2017</td>\n",
       "      <td>3</td>\n",
       "      <td>married</td>\n",
       "      <td>165665</td>\n",
       "      <td>2578584</td>\n",
       "      <td>8</td>\n",
       "      <td>1</td>\n",
       "      <td>15</td>\n",
       "      <td>10</td>\n",
       "      <td>196</td>\n",
       "      <td>Soda</td>\n",
       "      <td>77</td>\n",
       "      <td>7</td>\n",
       "      <td>9</td>\n",
       "      <td>both</td>\n",
       "      <td>Mid-range product</td>\n",
       "      <td>Regularly busy</td>\n",
       "      <td>Busiest days</td>\n",
       "      <td>Most orders</td>\n",
       "      <td>8</td>\n",
       "      <td>New_customer</td>\n",
       "      <td>7.988889</td>\n",
       "      <td>Low spender</td>\n",
       "      <td>19</td>\n",
       "      <td>Regular customer</td>\n",
       "      <td>Midwest_region</td>\n",
       "      <td>High_activity</td>\n",
       "      <td>40-50</td>\n",
       "      <td>150k-175k</td>\n",
       "      <td>Beverages</td>\n",
       "    </tr>\n",
       "    <tr>\n",
       "      <th>3</th>\n",
       "      <td>26711</td>\n",
       "      <td>Female</td>\n",
       "      <td>Missouri</td>\n",
       "      <td>48</td>\n",
       "      <td>1/1/2017</td>\n",
       "      <td>3</td>\n",
       "      <td>married</td>\n",
       "      <td>165665</td>\n",
       "      <td>423547</td>\n",
       "      <td>2</td>\n",
       "      <td>2</td>\n",
       "      <td>9</td>\n",
       "      <td>14</td>\n",
       "      <td>38928</td>\n",
       "      <td>0% Greek Strained Yogurt</td>\n",
       "      <td>120</td>\n",
       "      <td>16</td>\n",
       "      <td>12</td>\n",
       "      <td>both</td>\n",
       "      <td>Mid-range product</td>\n",
       "      <td>Regularly busy</td>\n",
       "      <td>Regularly busy</td>\n",
       "      <td>Most orders</td>\n",
       "      <td>8</td>\n",
       "      <td>New_customer</td>\n",
       "      <td>7.988889</td>\n",
       "      <td>Low spender</td>\n",
       "      <td>19</td>\n",
       "      <td>Regular customer</td>\n",
       "      <td>Midwest_region</td>\n",
       "      <td>High_activity</td>\n",
       "      <td>40-50</td>\n",
       "      <td>150k-175k</td>\n",
       "      <td>Dairy eggs</td>\n",
       "    </tr>\n",
       "    <tr>\n",
       "      <th>4</th>\n",
       "      <td>26711</td>\n",
       "      <td>Female</td>\n",
       "      <td>Missouri</td>\n",
       "      <td>48</td>\n",
       "      <td>1/1/2017</td>\n",
       "      <td>3</td>\n",
       "      <td>married</td>\n",
       "      <td>165665</td>\n",
       "      <td>2524893</td>\n",
       "      <td>3</td>\n",
       "      <td>3</td>\n",
       "      <td>11</td>\n",
       "      <td>30</td>\n",
       "      <td>38928</td>\n",
       "      <td>0% Greek Strained Yogurt</td>\n",
       "      <td>120</td>\n",
       "      <td>16</td>\n",
       "      <td>12</td>\n",
       "      <td>both</td>\n",
       "      <td>Mid-range product</td>\n",
       "      <td>Regularly busy</td>\n",
       "      <td>Slowest days</td>\n",
       "      <td>Most orders</td>\n",
       "      <td>8</td>\n",
       "      <td>New_customer</td>\n",
       "      <td>7.988889</td>\n",
       "      <td>Low spender</td>\n",
       "      <td>19</td>\n",
       "      <td>Regular customer</td>\n",
       "      <td>Midwest_region</td>\n",
       "      <td>High_activity</td>\n",
       "      <td>40-50</td>\n",
       "      <td>150k-175k</td>\n",
       "      <td>Dairy eggs</td>\n",
       "    </tr>\n",
       "  </tbody>\n",
       "</table>\n",
       "</div>"
      ],
      "text/plain": [
       "   user_id  gender     state  age date_joined  number_of_dependants  \\\n",
       "0    26711  Female  Missouri   48    1/1/2017                     3   \n",
       "1    26711  Female  Missouri   48    1/1/2017                     3   \n",
       "2    26711  Female  Missouri   48    1/1/2017                     3   \n",
       "3    26711  Female  Missouri   48    1/1/2017                     3   \n",
       "4    26711  Female  Missouri   48    1/1/2017                     3   \n",
       "\n",
       "  family_status  income order_id  order_number  order_day_of_week  \\\n",
       "0       married  165665  2543867             5                  1   \n",
       "1       married  165665  1285508             7                  5   \n",
       "2       married  165665  2578584             8                  1   \n",
       "3       married  165665   423547             2                  2   \n",
       "4       married  165665  2524893             3                  3   \n",
       "\n",
       "   order_hour_of_day  days_since_prior_order product_id  \\\n",
       "0                  9                      30        196   \n",
       "1                 15                      11        196   \n",
       "2                 15                      10        196   \n",
       "3                  9                      14      38928   \n",
       "4                 11                      30      38928   \n",
       "\n",
       "               product_name  aisle_id  department_id  prices _merge  \\\n",
       "0                      Soda        77              7       9   both   \n",
       "1                      Soda        77              7       9   both   \n",
       "2                      Soda        77              7       9   both   \n",
       "3  0% Greek Strained Yogurt       120             16      12   both   \n",
       "4  0% Greek Strained Yogurt       120             16      12   both   \n",
       "\n",
       "     price_range_loc     busiest_day    busiest_days busiest_period_of_day  \\\n",
       "0  Mid-range product  Regularly busy    Busiest days           Most orders   \n",
       "1  Mid-range product  Regularly busy  Regularly busy           Most orders   \n",
       "2  Mid-range product  Regularly busy    Busiest days           Most orders   \n",
       "3  Mid-range product  Regularly busy  Regularly busy           Most orders   \n",
       "4  Mid-range product  Regularly busy    Slowest days           Most orders   \n",
       "\n",
       "   max_order  loyalty_flag  mean_prder_price spending_flag  order_frequency  \\\n",
       "0          8  New_customer          7.988889   Low spender               19   \n",
       "1          8  New_customer          7.988889   Low spender               19   \n",
       "2          8  New_customer          7.988889   Low spender               19   \n",
       "3          8  New_customer          7.988889   Low spender               19   \n",
       "4          8  New_customer          7.988889   Low spender               19   \n",
       "\n",
       "     frequency_flag          region  activity_flag age_group income_group  \\\n",
       "0  Regular customer  Midwest_region  High_activity     40-50    150k-175k   \n",
       "1  Regular customer  Midwest_region  High_activity     40-50    150k-175k   \n",
       "2  Regular customer  Midwest_region  High_activity     40-50    150k-175k   \n",
       "3  Regular customer  Midwest_region  High_activity     40-50    150k-175k   \n",
       "4  Regular customer  Midwest_region  High_activity     40-50    150k-175k   \n",
       "\n",
       "  goods_group  \n",
       "0   Beverages  \n",
       "1   Beverages  \n",
       "2   Beverages  \n",
       "3  Dairy eggs  \n",
       "4  Dairy eggs  "
      ]
     },
     "execution_count": 2,
     "metadata": {},
     "output_type": "execute_result"
    }
   ],
   "source": [
    "# Import the last updated merged data frame\n",
    "pd.set_option('display.max_columns', None)\n",
    "path = r'C:\\Users\\98912\\MAY 2022 Instacart Analysis'\n",
    "df_merged = pd.read_pickle(os.path.join(path, '02-Data','Prepared Data', 'final_mergedv4.pkl'))\n",
    "df_merged.head()"
   ]
  },
  {
   "cell_type": "markdown",
   "id": "45fb6d23",
   "metadata": {},
   "source": [
    "## Prepare visualization for final report"
   ]
  },
  {
   "cell_type": "markdown",
   "id": "f68279a8",
   "metadata": {},
   "source": [
    "### Key question 1:"
   ]
  },
  {
   "cell_type": "code",
   "execution_count": 4,
   "id": "367bc0cc",
   "metadata": {},
   "outputs": [
    {
     "data": {
      "image/png": "[encoded data removed]",
      "text/plain": [
       "<Figure size 432x288 with 1 Axes>"
      ]
     },
     "metadata": {
      "needs_background": "light"
     },
     "output_type": "display_data"
    }
   ],
   "source": [
    "# busiest days of the week\n",
    "bar1 = df_merged['order_day_of_week'].value_counts().sort_index().plot.bar(xlabel = 'Days of the week', ylabel = 'Order counts', title = 'Busiest days of the week')"
   ]
  },
  {
   "cell_type": "code",
   "execution_count": 5,
   "id": "0251f9d6",
   "metadata": {},
   "outputs": [],
   "source": [
    "# save the chart\n",
    "bar1.figure.savefig(os.path.join(path, '04-Analysis', 'busydays.png'))"
   ]
  },
  {
   "cell_type": "code",
   "execution_count": 6,
   "id": "12e64244",
   "metadata": {},
   "outputs": [
    {
     "data": {
      "image/png": "[encoded data removed]",
      "text/plain": [
       "<Figure size 432x288 with 1 Axes>"
      ]
     },
     "metadata": {
      "needs_background": "light"
     },
     "output_type": "display_data"
    }
   ],
   "source": [
    "#  busiest hours of the day\n",
    "hist2 = df_merged['order_hour_of_day'].plot.hist(bins=24, ylabel = 'Order counts', title = 'Busiest hours of the day',  xlabel = 'Hours of the day' )"
   ]
  },
  {
   "cell_type": "code",
   "execution_count": 7,
   "id": "a236fc8a",
   "metadata": {},
   "outputs": [],
   "source": [
    "# save the chart\n",
    "hist2.figure.savefig(os.path.join(path, '04-Analysis', 'busiesthours.png'))"
   ]
  },
  {
   "cell_type": "markdown",
   "id": "ce6c0a53",
   "metadata": {},
   "source": [
    "### Key Question 2:"
   ]
  },
  {
   "cell_type": "code",
   "execution_count": 8,
   "id": "494af432",
   "metadata": {},
   "outputs": [
    {
     "data": {
      "image/png": "[encoded data removed]",
      "text/plain": [
       "<Figure size 432x288 with 1 Axes>"
      ]
     },
     "metadata": {
      "needs_background": "light"
     },
     "output_type": "display_data"
    }
   ],
   "source": [
    "#  price in different hours of the day \n",
    "line2 = sns.lineplot(data=df_merged, x='order_hour_of_day', y='prices')"
   ]
  },
  {
   "cell_type": "code",
   "execution_count": 9,
   "id": "a7500a9f",
   "metadata": {},
   "outputs": [],
   "source": [
    "# save the chart\n",
    "line2.figure.savefig(os.path.join(path, '04-Analysis', 'pricehour.png'))"
   ]
  },
  {
   "cell_type": "markdown",
   "id": "f6d9d68a",
   "metadata": {},
   "source": [
    "### Key Question 3:"
   ]
  },
  {
   "cell_type": "code",
   "execution_count": 19,
   "id": "72556fe7",
   "metadata": {},
   "outputs": [
    {
     "data": {
      "text/html": [
       "<div>\n",
       "<style scoped>\n",
       "    .dataframe tbody tr th:only-of-type {\n",
       "        vertical-align: middle;\n",
       "    }\n",
       "\n",
       "    .dataframe tbody tr th {\n",
       "        vertical-align: top;\n",
       "    }\n",
       "\n",
       "    .dataframe thead th {\n",
       "        text-align: right;\n",
       "    }\n",
       "</style>\n",
       "<table border=\"1\" class=\"dataframe\">\n",
       "  <thead>\n",
       "    <tr style=\"text-align: right;\">\n",
       "      <th></th>\n",
       "      <th>price_range_loc</th>\n",
       "    </tr>\n",
       "    <tr>\n",
       "      <th>product_id</th>\n",
       "      <th></th>\n",
       "    </tr>\n",
       "  </thead>\n",
       "  <tbody>\n",
       "    <tr>\n",
       "      <th>1</th>\n",
       "      <td>Mid-range product</td>\n",
       "    </tr>\n",
       "    <tr>\n",
       "      <th>10</th>\n",
       "      <td>Mid-range product</td>\n",
       "    </tr>\n",
       "    <tr>\n",
       "      <th>100</th>\n",
       "      <td>Low-range product</td>\n",
       "    </tr>\n",
       "    <tr>\n",
       "      <th>1000</th>\n",
       "      <td>Mid-range product</td>\n",
       "    </tr>\n",
       "    <tr>\n",
       "      <th>10000</th>\n",
       "      <td>Low-range product</td>\n",
       "    </tr>\n",
       "    <tr>\n",
       "      <th>...</th>\n",
       "      <td>...</td>\n",
       "    </tr>\n",
       "    <tr>\n",
       "      <th>9995</th>\n",
       "      <td>Low-range product</td>\n",
       "    </tr>\n",
       "    <tr>\n",
       "      <th>9996</th>\n",
       "      <td>Low-range product</td>\n",
       "    </tr>\n",
       "    <tr>\n",
       "      <th>9997</th>\n",
       "      <td>Low-range product</td>\n",
       "    </tr>\n",
       "    <tr>\n",
       "      <th>9998</th>\n",
       "      <td>Mid-range product</td>\n",
       "    </tr>\n",
       "    <tr>\n",
       "      <th>9999</th>\n",
       "      <td>Mid-range product</td>\n",
       "    </tr>\n",
       "  </tbody>\n",
       "</table>\n",
       "<p>49659 rows × 1 columns</p>\n",
       "</div>"
      ],
      "text/plain": [
       "              price_range_loc\n",
       "product_id                   \n",
       "1           Mid-range product\n",
       "10          Mid-range product\n",
       "100         Low-range product\n",
       "1000        Mid-range product\n",
       "10000       Low-range product\n",
       "...                       ...\n",
       "9995        Low-range product\n",
       "9996        Low-range product\n",
       "9997        Low-range product\n",
       "9998        Mid-range product\n",
       "9999        Mid-range product\n",
       "\n",
       "[49659 rows x 1 columns]"
      ]
     },
     "execution_count": 19,
     "metadata": {},
     "output_type": "execute_result"
    }
   ],
   "source": [
    "#  products price ranges\n",
    "price_range = df_merged.groupby('product_id').agg({'price_range_loc' : 'max' })\n",
    "price_range"
   ]
  },
  {
   "cell_type": "code",
   "execution_count": 20,
   "id": "9801e21a",
   "metadata": {},
   "outputs": [
    {
     "data": {
      "image/png": "[encoded data removed]",
      "text/plain": [
       "<Figure size 432x288 with 1 Axes>"
      ]
     },
     "metadata": {},
     "output_type": "display_data"
    }
   ],
   "source": [
    "# drawing pie chart\n",
    "explode = (0, 0.1, 0)\n",
    "piechart1 = price_range.value_counts().plot.pie(autopct='%1.1f%%',\n",
    "        shadow=True, startangle=90, explode = explode, title = None)"
   ]
  },
  {
   "cell_type": "code",
   "execution_count": 21,
   "id": "2cfcd131",
   "metadata": {},
   "outputs": [],
   "source": [
    "# save the chart\n",
    "piechart1.figure.savefig(os.path.join(path, '04-Analysis', 'pricedist.png'))"
   ]
  },
  {
   "cell_type": "markdown",
   "id": "eab20b2d",
   "metadata": {},
   "source": [
    "### key Question 4:"
   ]
  },
  {
   "cell_type": "code",
   "execution_count": 13,
   "id": "3d2e8a2f",
   "metadata": {},
   "outputs": [],
   "source": [
    "#  popularity of different product categories\n",
    "# the drawing was prepared in part 1 script"
   ]
  },
  {
   "cell_type": "markdown",
   "id": "d7ec25e1",
   "metadata": {},
   "source": [
    "### Key Question 5:"
   ]
  },
  {
   "cell_type": "code",
   "execution_count": 22,
   "id": "efa8ed78",
   "metadata": {},
   "outputs": [
    {
     "data": {
      "text/html": [
       "<div>\n",
       "<style scoped>\n",
       "    .dataframe tbody tr th:only-of-type {\n",
       "        vertical-align: middle;\n",
       "    }\n",
       "\n",
       "    .dataframe tbody tr th {\n",
       "        vertical-align: top;\n",
       "    }\n",
       "\n",
       "    .dataframe thead th {\n",
       "        text-align: right;\n",
       "    }\n",
       "</style>\n",
       "<table border=\"1\" class=\"dataframe\">\n",
       "  <thead>\n",
       "    <tr style=\"text-align: right;\">\n",
       "      <th></th>\n",
       "      <th>loyalty_flag</th>\n",
       "    </tr>\n",
       "    <tr>\n",
       "      <th>user_id</th>\n",
       "      <th></th>\n",
       "    </tr>\n",
       "  </thead>\n",
       "  <tbody>\n",
       "    <tr>\n",
       "      <th>1</th>\n",
       "      <td>New_customer</td>\n",
       "    </tr>\n",
       "    <tr>\n",
       "      <th>2</th>\n",
       "      <td>Regular_customer</td>\n",
       "    </tr>\n",
       "    <tr>\n",
       "      <th>3</th>\n",
       "      <td>Regular_customer</td>\n",
       "    </tr>\n",
       "    <tr>\n",
       "      <th>4</th>\n",
       "      <td>New_customer</td>\n",
       "    </tr>\n",
       "    <tr>\n",
       "      <th>5</th>\n",
       "      <td>New_customer</td>\n",
       "    </tr>\n",
       "    <tr>\n",
       "      <th>...</th>\n",
       "      <td>...</td>\n",
       "    </tr>\n",
       "    <tr>\n",
       "      <th>206205</th>\n",
       "      <td>New_customer</td>\n",
       "    </tr>\n",
       "    <tr>\n",
       "      <th>206206</th>\n",
       "      <td>Loyal_customer</td>\n",
       "    </tr>\n",
       "    <tr>\n",
       "      <th>206207</th>\n",
       "      <td>Regular_customer</td>\n",
       "    </tr>\n",
       "    <tr>\n",
       "      <th>206208</th>\n",
       "      <td>Loyal_customer</td>\n",
       "    </tr>\n",
       "    <tr>\n",
       "      <th>206209</th>\n",
       "      <td>Regular_customer</td>\n",
       "    </tr>\n",
       "  </tbody>\n",
       "</table>\n",
       "<p>206209 rows × 1 columns</p>\n",
       "</div>"
      ],
      "text/plain": [
       "             loyalty_flag\n",
       "user_id                  \n",
       "1            New_customer\n",
       "2        Regular_customer\n",
       "3        Regular_customer\n",
       "4            New_customer\n",
       "5            New_customer\n",
       "...                   ...\n",
       "206205       New_customer\n",
       "206206     Loyal_customer\n",
       "206207   Regular_customer\n",
       "206208     Loyal_customer\n",
       "206209   Regular_customer\n",
       "\n",
       "[206209 rows x 1 columns]"
      ]
     },
     "execution_count": 22,
     "metadata": {},
     "output_type": "execute_result"
    }
   ],
   "source": [
    "#  loyalty distribution\n",
    "loyalty_dist = df_merged.groupby('user_id').agg({'loyalty_flag' : 'max' })\n",
    "loyalty_dist"
   ]
  },
  {
   "cell_type": "code",
   "execution_count": 23,
   "id": "efcf066e",
   "metadata": {},
   "outputs": [
    {
     "data": {
      "image/png": "[encoded data removed]",
      "text/plain": [
       "<Figure size 432x288 with 1 Axes>"
      ]
     },
     "metadata": {},
     "output_type": "display_data"
    }
   ],
   "source": [
    "\n",
    "Piechart2 = loyalty_dist.value_counts().plot.pie(autopct='%1.1f%%',\n",
    "        shadow=True, startangle=90, explode = explode)"
   ]
  },
  {
   "cell_type": "code",
   "execution_count": 24,
   "id": "8386a417",
   "metadata": {},
   "outputs": [],
   "source": [
    "# save the chart\n",
    "Piechart2.figure.savefig(os.path.join(path, '04-Analysis', 'loyaltydistr.png'))"
   ]
  },
  {
   "cell_type": "code",
   "execution_count": 26,
   "id": "528c5572",
   "metadata": {},
   "outputs": [
    {
     "data": {
      "text/html": [
       "<div>\n",
       "<style scoped>\n",
       "    .dataframe tbody tr th:only-of-type {\n",
       "        vertical-align: middle;\n",
       "    }\n",
       "\n",
       "    .dataframe tbody tr th {\n",
       "        vertical-align: top;\n",
       "    }\n",
       "\n",
       "    .dataframe thead th {\n",
       "        text-align: right;\n",
       "    }\n",
       "</style>\n",
       "<table border=\"1\" class=\"dataframe\">\n",
       "  <thead>\n",
       "    <tr style=\"text-align: right;\">\n",
       "      <th></th>\n",
       "      <th>loyalty_flag</th>\n",
       "      <th>frequency_flag</th>\n",
       "    </tr>\n",
       "    <tr>\n",
       "      <th>user_id</th>\n",
       "      <th></th>\n",
       "      <th></th>\n",
       "    </tr>\n",
       "  </thead>\n",
       "  <tbody>\n",
       "    <tr>\n",
       "      <th>1</th>\n",
       "      <td>New_customer</td>\n",
       "      <td>Regular customer</td>\n",
       "    </tr>\n",
       "    <tr>\n",
       "      <th>2</th>\n",
       "      <td>Regular_customer</td>\n",
       "      <td>Regular customer</td>\n",
       "    </tr>\n",
       "    <tr>\n",
       "      <th>3</th>\n",
       "      <td>Regular_customer</td>\n",
       "      <td>Frequent customer</td>\n",
       "    </tr>\n",
       "    <tr>\n",
       "      <th>4</th>\n",
       "      <td>New_customer</td>\n",
       "      <td>Regular customer</td>\n",
       "    </tr>\n",
       "    <tr>\n",
       "      <th>5</th>\n",
       "      <td>New_customer</td>\n",
       "      <td>Regular customer</td>\n",
       "    </tr>\n",
       "    <tr>\n",
       "      <th>...</th>\n",
       "      <td>...</td>\n",
       "      <td>...</td>\n",
       "    </tr>\n",
       "    <tr>\n",
       "      <th>206205</th>\n",
       "      <td>New_customer</td>\n",
       "      <td>Frequent customer</td>\n",
       "    </tr>\n",
       "    <tr>\n",
       "      <th>206206</th>\n",
       "      <td>Loyal_customer</td>\n",
       "      <td>Frequent customer</td>\n",
       "    </tr>\n",
       "    <tr>\n",
       "      <th>206207</th>\n",
       "      <td>Regular_customer</td>\n",
       "      <td>Frequent customer</td>\n",
       "    </tr>\n",
       "    <tr>\n",
       "      <th>206208</th>\n",
       "      <td>Loyal_customer</td>\n",
       "      <td>Frequent customer</td>\n",
       "    </tr>\n",
       "    <tr>\n",
       "      <th>206209</th>\n",
       "      <td>Regular_customer</td>\n",
       "      <td>Regular customer</td>\n",
       "    </tr>\n",
       "  </tbody>\n",
       "</table>\n",
       "<p>206209 rows × 2 columns</p>\n",
       "</div>"
      ],
      "text/plain": [
       "             loyalty_flag     frequency_flag\n",
       "user_id                                     \n",
       "1            New_customer   Regular customer\n",
       "2        Regular_customer   Regular customer\n",
       "3        Regular_customer  Frequent customer\n",
       "4            New_customer   Regular customer\n",
       "5            New_customer   Regular customer\n",
       "...                   ...                ...\n",
       "206205       New_customer  Frequent customer\n",
       "206206     Loyal_customer  Frequent customer\n",
       "206207   Regular_customer  Frequent customer\n",
       "206208     Loyal_customer  Frequent customer\n",
       "206209   Regular_customer   Regular customer\n",
       "\n",
       "[206209 rows x 2 columns]"
      ]
     },
     "execution_count": 26,
     "metadata": {},
     "output_type": "execute_result"
    }
   ],
   "source": [
    "#  how often customers return\n",
    "# in customer level aggregation\n",
    "loyalty_frequency = df_merged.groupby('user_id').agg({'loyalty_flag' : 'max' , 'frequency_flag': 'max'})\n",
    "loyalty_frequency"
   ]
  },
  {
   "cell_type": "code",
   "execution_count": 27,
   "id": "be486179",
   "metadata": {},
   "outputs": [
    {
     "data": {
      "text/html": [
       "<div>\n",
       "<style scoped>\n",
       "    .dataframe tbody tr th:only-of-type {\n",
       "        vertical-align: middle;\n",
       "    }\n",
       "\n",
       "    .dataframe tbody tr th {\n",
       "        vertical-align: top;\n",
       "    }\n",
       "\n",
       "    .dataframe thead th {\n",
       "        text-align: right;\n",
       "    }\n",
       "</style>\n",
       "<table border=\"1\" class=\"dataframe\">\n",
       "  <thead>\n",
       "    <tr style=\"text-align: right;\">\n",
       "      <th>frequency_flag</th>\n",
       "      <th>Frequent customer</th>\n",
       "      <th>Non-frequent customer</th>\n",
       "      <th>Regular customer</th>\n",
       "    </tr>\n",
       "    <tr>\n",
       "      <th>loyalty_flag</th>\n",
       "      <th></th>\n",
       "      <th></th>\n",
       "      <th></th>\n",
       "    </tr>\n",
       "  </thead>\n",
       "  <tbody>\n",
       "    <tr>\n",
       "      <th>Loyal_customer</th>\n",
       "      <td>17011</td>\n",
       "      <td>0</td>\n",
       "      <td>6</td>\n",
       "    </tr>\n",
       "    <tr>\n",
       "      <th>New_customer</th>\n",
       "      <td>42210</td>\n",
       "      <td>38094</td>\n",
       "      <td>32024</td>\n",
       "    </tr>\n",
       "    <tr>\n",
       "      <th>Regular_customer</th>\n",
       "      <td>44225</td>\n",
       "      <td>5185</td>\n",
       "      <td>27454</td>\n",
       "    </tr>\n",
       "  </tbody>\n",
       "</table>\n",
       "</div>"
      ],
      "text/plain": [
       "frequency_flag    Frequent customer  Non-frequent customer  Regular customer\n",
       "loyalty_flag                                                                \n",
       "Loyal_customer                17011                      0                 6\n",
       "New_customer                  42210                  38094             32024\n",
       "Regular_customer              44225                   5185             27454"
      ]
     },
     "execution_count": 27,
     "metadata": {},
     "output_type": "execute_result"
    }
   ],
   "source": [
    "# create pivot table \n",
    "xtab_loyalty_frequency = pd.crosstab(loyalty_frequency['loyalty_flag'], loyalty_frequency['frequency_flag'], dropna=False)\n",
    "xtab_loyalty_frequency"
   ]
  },
  {
   "cell_type": "code",
   "execution_count": 32,
   "id": "c71bee59",
   "metadata": {},
   "outputs": [],
   "source": [
    "xtab_loyalty_frequency.to_clipboard()"
   ]
  },
  {
   "cell_type": "code",
   "execution_count": 28,
   "id": "639b3942",
   "metadata": {},
   "outputs": [
    {
     "data": {
      "text/plain": [
       "206206"
      ]
     },
     "execution_count": 28,
     "metadata": {},
     "output_type": "execute_result"
    }
   ],
   "source": [
    "17011+42210+38094+32024+44225+5185+27457"
   ]
  },
  {
   "cell_type": "code",
   "execution_count": 29,
   "id": "b6a4de76",
   "metadata": {},
   "outputs": [
    {
     "data": {
      "image/png": "[encoded data removed]",
      "text/plain": [
       "<Figure size 432x288 with 1 Axes>"
      ]
     },
     "metadata": {
      "needs_background": "light"
     },
     "output_type": "display_data"
    }
   ],
   "source": [
    "loyalty_frequency_plot = xtab_loyalty_frequency.plot(kind='bar', stacked=True)"
   ]
  },
  {
   "cell_type": "code",
   "execution_count": 30,
   "id": "ca799511",
   "metadata": {},
   "outputs": [],
   "source": [
    "# save the plot\n",
    "loyalty_frequency_plot.figure.savefig(os.path.join(path, '04-Analysis', 'loyalty_frequency.png'))"
   ]
  },
  {
   "cell_type": "markdown",
   "id": "7382ec88",
   "metadata": {},
   "source": [
    "### Key question 6:"
   ]
  },
  {
   "cell_type": "code",
   "execution_count": 34,
   "id": "358cd13d",
   "metadata": {},
   "outputs": [
    {
     "data": {
      "text/html": [
       "<div>\n",
       "<style scoped>\n",
       "    .dataframe tbody tr th:only-of-type {\n",
       "        vertical-align: middle;\n",
       "    }\n",
       "\n",
       "    .dataframe tbody tr th {\n",
       "        vertical-align: top;\n",
       "    }\n",
       "\n",
       "    .dataframe thead th {\n",
       "        text-align: right;\n",
       "    }\n",
       "</style>\n",
       "<table border=\"1\" class=\"dataframe\">\n",
       "  <thead>\n",
       "    <tr style=\"text-align: right;\">\n",
       "      <th></th>\n",
       "      <th>loyalty_flag</th>\n",
       "      <th>spending_flag</th>\n",
       "    </tr>\n",
       "    <tr>\n",
       "      <th>user_id</th>\n",
       "      <th></th>\n",
       "      <th></th>\n",
       "    </tr>\n",
       "  </thead>\n",
       "  <tbody>\n",
       "    <tr>\n",
       "      <th>1</th>\n",
       "      <td>New_customer</td>\n",
       "      <td>Low spender</td>\n",
       "    </tr>\n",
       "    <tr>\n",
       "      <th>2</th>\n",
       "      <td>Regular_customer</td>\n",
       "      <td>Low spender</td>\n",
       "    </tr>\n",
       "    <tr>\n",
       "      <th>3</th>\n",
       "      <td>Regular_customer</td>\n",
       "      <td>Low spender</td>\n",
       "    </tr>\n",
       "    <tr>\n",
       "      <th>4</th>\n",
       "      <td>New_customer</td>\n",
       "      <td>Low spender</td>\n",
       "    </tr>\n",
       "    <tr>\n",
       "      <th>5</th>\n",
       "      <td>New_customer</td>\n",
       "      <td>Low spender</td>\n",
       "    </tr>\n",
       "    <tr>\n",
       "      <th>...</th>\n",
       "      <td>...</td>\n",
       "      <td>...</td>\n",
       "    </tr>\n",
       "    <tr>\n",
       "      <th>206205</th>\n",
       "      <td>New_customer</td>\n",
       "      <td>Low spender</td>\n",
       "    </tr>\n",
       "    <tr>\n",
       "      <th>206206</th>\n",
       "      <td>Loyal_customer</td>\n",
       "      <td>Low spender</td>\n",
       "    </tr>\n",
       "    <tr>\n",
       "      <th>206207</th>\n",
       "      <td>Regular_customer</td>\n",
       "      <td>Low spender</td>\n",
       "    </tr>\n",
       "    <tr>\n",
       "      <th>206208</th>\n",
       "      <td>Loyal_customer</td>\n",
       "      <td>Low spender</td>\n",
       "    </tr>\n",
       "    <tr>\n",
       "      <th>206209</th>\n",
       "      <td>Regular_customer</td>\n",
       "      <td>Low spender</td>\n",
       "    </tr>\n",
       "  </tbody>\n",
       "</table>\n",
       "<p>206209 rows × 2 columns</p>\n",
       "</div>"
      ],
      "text/plain": [
       "             loyalty_flag spending_flag\n",
       "user_id                                \n",
       "1            New_customer   Low spender\n",
       "2        Regular_customer   Low spender\n",
       "3        Regular_customer   Low spender\n",
       "4            New_customer   Low spender\n",
       "5            New_customer   Low spender\n",
       "...                   ...           ...\n",
       "206205       New_customer   Low spender\n",
       "206206     Loyal_customer   Low spender\n",
       "206207   Regular_customer   Low spender\n",
       "206208     Loyal_customer   Low spender\n",
       "206209   Regular_customer   Low spender\n",
       "\n",
       "[206209 rows x 2 columns]"
      ]
     },
     "execution_count": 34,
     "metadata": {},
     "output_type": "execute_result"
    }
   ],
   "source": [
    "# loyalty and expending habits\n",
    "# in customer level aggregation\n",
    "loyalty_spending = df_merged.groupby('user_id').agg({'loyalty_flag' : 'max' , 'spending_flag': 'max'})\n",
    "loyalty_spending"
   ]
  },
  {
   "cell_type": "code",
   "execution_count": 35,
   "id": "94f21a25",
   "metadata": {},
   "outputs": [
    {
     "data": {
      "text/html": [
       "<div>\n",
       "<style scoped>\n",
       "    .dataframe tbody tr th:only-of-type {\n",
       "        vertical-align: middle;\n",
       "    }\n",
       "\n",
       "    .dataframe tbody tr th {\n",
       "        vertical-align: top;\n",
       "    }\n",
       "\n",
       "    .dataframe thead th {\n",
       "        text-align: right;\n",
       "    }\n",
       "</style>\n",
       "<table border=\"1\" class=\"dataframe\">\n",
       "  <thead>\n",
       "    <tr style=\"text-align: right;\">\n",
       "      <th>spending_flag</th>\n",
       "      <th>High spender</th>\n",
       "      <th>Low spender</th>\n",
       "    </tr>\n",
       "    <tr>\n",
       "      <th>loyalty_flag</th>\n",
       "      <th></th>\n",
       "      <th></th>\n",
       "    </tr>\n",
       "  </thead>\n",
       "  <tbody>\n",
       "    <tr>\n",
       "      <th>Loyal_customer</th>\n",
       "      <td>373</td>\n",
       "      <td>16644</td>\n",
       "    </tr>\n",
       "    <tr>\n",
       "      <th>New_customer</th>\n",
       "      <td>3372</td>\n",
       "      <td>108956</td>\n",
       "    </tr>\n",
       "    <tr>\n",
       "      <th>Regular_customer</th>\n",
       "      <td>1612</td>\n",
       "      <td>75252</td>\n",
       "    </tr>\n",
       "  </tbody>\n",
       "</table>\n",
       "</div>"
      ],
      "text/plain": [
       "spending_flag     High spender  Low spender\n",
       "loyalty_flag                               \n",
       "Loyal_customer             373        16644\n",
       "New_customer              3372       108956\n",
       "Regular_customer          1612        75252"
      ]
     },
     "execution_count": 35,
     "metadata": {},
     "output_type": "execute_result"
    }
   ],
   "source": [
    "# create pivot table \n",
    "xtab_loyalty_spending = pd.crosstab(loyalty_spending['loyalty_flag'], loyalty_spending['spending_flag'], dropna=False)\n",
    "xtab_loyalty_spending"
   ]
  },
  {
   "cell_type": "code",
   "execution_count": 36,
   "id": "0ebf9192",
   "metadata": {},
   "outputs": [
    {
     "data": {
      "text/plain": [
       "206209"
      ]
     },
     "execution_count": 36,
     "metadata": {},
     "output_type": "execute_result"
    }
   ],
   "source": [
    "373+16644+3372+108956+1612+75252"
   ]
  },
  {
   "cell_type": "code",
   "execution_count": 39,
   "id": "e3517ccc",
   "metadata": {},
   "outputs": [],
   "source": [
    "xtab_loyalty_spending.to_clipboard()"
   ]
  },
  {
   "cell_type": "code",
   "execution_count": 37,
   "id": "327a93dc",
   "metadata": {},
   "outputs": [
    {
     "data": {
      "image/png": "[encoded data removed]",
      "text/plain": [
       "<Figure size 432x288 with 1 Axes>"
      ]
     },
     "metadata": {
      "needs_background": "light"
     },
     "output_type": "display_data"
    }
   ],
   "source": [
    "loyalty_spending_plot = xtab_loyalty_spending.plot(kind='bar', stacked=False)"
   ]
  },
  {
   "cell_type": "code",
   "execution_count": 38,
   "id": "300a95d5",
   "metadata": {},
   "outputs": [],
   "source": [
    "# save the plot\n",
    "loyalty_spending_plot.figure.savefig(os.path.join(path, '04-Analysis', 'loyalty_spending.png'))"
   ]
  },
  {
   "cell_type": "markdown",
   "id": "d3085e59",
   "metadata": {},
   "source": [
    "### Key Question 7:"
   ]
  },
  {
   "cell_type": "code",
   "execution_count": 41,
   "id": "922ddd56",
   "metadata": {},
   "outputs": [
    {
     "data": {
      "text/html": [
       "<div>\n",
       "<style scoped>\n",
       "    .dataframe tbody tr th:only-of-type {\n",
       "        vertical-align: middle;\n",
       "    }\n",
       "\n",
       "    .dataframe tbody tr th {\n",
       "        vertical-align: top;\n",
       "    }\n",
       "\n",
       "    .dataframe thead th {\n",
       "        text-align: right;\n",
       "    }\n",
       "</style>\n",
       "<table border=\"1\" class=\"dataframe\">\n",
       "  <thead>\n",
       "    <tr style=\"text-align: right;\">\n",
       "      <th></th>\n",
       "      <th>region</th>\n",
       "      <th>spending_flag</th>\n",
       "      <th>loyalty_flag</th>\n",
       "      <th>frequency_flag</th>\n",
       "    </tr>\n",
       "    <tr>\n",
       "      <th>user_id</th>\n",
       "      <th></th>\n",
       "      <th></th>\n",
       "      <th></th>\n",
       "      <th></th>\n",
       "    </tr>\n",
       "  </thead>\n",
       "  <tbody>\n",
       "    <tr>\n",
       "      <th>1</th>\n",
       "      <td>South_region</td>\n",
       "      <td>Low spender</td>\n",
       "      <td>New_customer</td>\n",
       "      <td>Regular customer</td>\n",
       "    </tr>\n",
       "    <tr>\n",
       "      <th>2</th>\n",
       "      <td>West_region</td>\n",
       "      <td>Low spender</td>\n",
       "      <td>Regular_customer</td>\n",
       "      <td>Regular customer</td>\n",
       "    </tr>\n",
       "    <tr>\n",
       "      <th>3</th>\n",
       "      <td>West_region</td>\n",
       "      <td>Low spender</td>\n",
       "      <td>Regular_customer</td>\n",
       "      <td>Frequent customer</td>\n",
       "    </tr>\n",
       "    <tr>\n",
       "      <th>4</th>\n",
       "      <td>South_region</td>\n",
       "      <td>Low spender</td>\n",
       "      <td>New_customer</td>\n",
       "      <td>Regular customer</td>\n",
       "    </tr>\n",
       "    <tr>\n",
       "      <th>5</th>\n",
       "      <td>West_region</td>\n",
       "      <td>Low spender</td>\n",
       "      <td>New_customer</td>\n",
       "      <td>Regular customer</td>\n",
       "    </tr>\n",
       "    <tr>\n",
       "      <th>...</th>\n",
       "      <td>...</td>\n",
       "      <td>...</td>\n",
       "      <td>...</td>\n",
       "      <td>...</td>\n",
       "    </tr>\n",
       "    <tr>\n",
       "      <th>206205</th>\n",
       "      <td>West_region</td>\n",
       "      <td>Low spender</td>\n",
       "      <td>New_customer</td>\n",
       "      <td>Frequent customer</td>\n",
       "    </tr>\n",
       "    <tr>\n",
       "      <th>206206</th>\n",
       "      <td>West_region</td>\n",
       "      <td>Low spender</td>\n",
       "      <td>Loyal_customer</td>\n",
       "      <td>Frequent customer</td>\n",
       "    </tr>\n",
       "    <tr>\n",
       "      <th>206207</th>\n",
       "      <td>Midwest_region</td>\n",
       "      <td>Low spender</td>\n",
       "      <td>Regular_customer</td>\n",
       "      <td>Frequent customer</td>\n",
       "    </tr>\n",
       "    <tr>\n",
       "      <th>206208</th>\n",
       "      <td>Midwest_region</td>\n",
       "      <td>Low spender</td>\n",
       "      <td>Loyal_customer</td>\n",
       "      <td>Frequent customer</td>\n",
       "    </tr>\n",
       "    <tr>\n",
       "      <th>206209</th>\n",
       "      <td>Midwest_region</td>\n",
       "      <td>Low spender</td>\n",
       "      <td>Regular_customer</td>\n",
       "      <td>Regular customer</td>\n",
       "    </tr>\n",
       "  </tbody>\n",
       "</table>\n",
       "<p>206209 rows × 4 columns</p>\n",
       "</div>"
      ],
      "text/plain": [
       "                 region spending_flag      loyalty_flag     frequency_flag\n",
       "user_id                                                                   \n",
       "1          South_region   Low spender      New_customer   Regular customer\n",
       "2           West_region   Low spender  Regular_customer   Regular customer\n",
       "3           West_region   Low spender  Regular_customer  Frequent customer\n",
       "4          South_region   Low spender      New_customer   Regular customer\n",
       "5           West_region   Low spender      New_customer   Regular customer\n",
       "...                 ...           ...               ...                ...\n",
       "206205      West_region   Low spender      New_customer  Frequent customer\n",
       "206206      West_region   Low spender    Loyal_customer  Frequent customer\n",
       "206207   Midwest_region   Low spender  Regular_customer  Frequent customer\n",
       "206208   Midwest_region   Low spender    Loyal_customer  Frequent customer\n",
       "206209   Midwest_region   Low spender  Regular_customer   Regular customer\n",
       "\n",
       "[206209 rows x 4 columns]"
      ]
     },
     "execution_count": 41,
     "metadata": {},
     "output_type": "execute_result"
    }
   ],
   "source": [
    "# differences in ordering habits based on a customer’s region\n",
    "# create table in customer level\n",
    "region_spend_loya_freq = df_merged.groupby('user_id'). agg({'region': 'max','spending_flag':'max', 'loyalty_flag': 'max', 'frequency_flag':'max'})\n",
    "region_spend_loya_freq"
   ]
  },
  {
   "cell_type": "code",
   "execution_count": 50,
   "id": "a2e5e733",
   "metadata": {},
   "outputs": [
    {
     "data": {
      "image/png": "[encoded data removed]",
      "text/plain": [
       "<Figure size 432x288 with 1 Axes>"
      ]
     },
     "metadata": {
      "needs_background": "light"
     },
     "output_type": "display_data"
    }
   ],
   "source": [
    "Region_frequency_plot = region_spend_loya_freq['region'].value_counts().plot.bar()"
   ]
  },
  {
   "cell_type": "code",
   "execution_count": 42,
   "id": "9f766dea",
   "metadata": {},
   "outputs": [
    {
     "data": {
      "text/html": [
       "<div>\n",
       "<style scoped>\n",
       "    .dataframe tbody tr th:only-of-type {\n",
       "        vertical-align: middle;\n",
       "    }\n",
       "\n",
       "    .dataframe tbody tr th {\n",
       "        vertical-align: top;\n",
       "    }\n",
       "\n",
       "    .dataframe thead th {\n",
       "        text-align: right;\n",
       "    }\n",
       "</style>\n",
       "<table border=\"1\" class=\"dataframe\">\n",
       "  <thead>\n",
       "    <tr style=\"text-align: right;\">\n",
       "      <th>spending_flag</th>\n",
       "      <th>High spender</th>\n",
       "      <th>Low spender</th>\n",
       "    </tr>\n",
       "    <tr>\n",
       "      <th>region</th>\n",
       "      <th></th>\n",
       "      <th></th>\n",
       "    </tr>\n",
       "  </thead>\n",
       "  <tbody>\n",
       "    <tr>\n",
       "      <th>Midwest_region</th>\n",
       "      <td>1263</td>\n",
       "      <td>47256</td>\n",
       "    </tr>\n",
       "    <tr>\n",
       "      <th>Northeast_region</th>\n",
       "      <td>883</td>\n",
       "      <td>35505</td>\n",
       "    </tr>\n",
       "    <tr>\n",
       "      <th>South_region</th>\n",
       "      <td>1817</td>\n",
       "      <td>66920</td>\n",
       "    </tr>\n",
       "    <tr>\n",
       "      <th>West_region</th>\n",
       "      <td>1394</td>\n",
       "      <td>51171</td>\n",
       "    </tr>\n",
       "  </tbody>\n",
       "</table>\n",
       "</div>"
      ],
      "text/plain": [
       "spending_flag     High spender  Low spender\n",
       "region                                     \n",
       "Midwest_region            1263        47256\n",
       "Northeast_region           883        35505\n",
       "South_region              1817        66920\n",
       "West_region               1394        51171"
      ]
     },
     "execution_count": 42,
     "metadata": {},
     "output_type": "execute_result"
    }
   ],
   "source": [
    "xtab_region_spending = pd.crosstab(region_spend_loya_freq['region'], region_spend_loya_freq['spending_flag'], dropna=False)\n",
    "xtab_region_spending"
   ]
  },
  {
   "cell_type": "code",
   "execution_count": 43,
   "id": "058fadff",
   "metadata": {},
   "outputs": [
    {
     "data": {
      "image/png": "[encoded data removed]",
      "text/plain": [
       "<Figure size 432x288 with 1 Axes>"
      ]
     },
     "metadata": {
      "needs_background": "light"
     },
     "output_type": "display_data"
    }
   ],
   "source": [
    "region_spending_plot = xtab_region_spending.plot(kind='bar', stacked=True)"
   ]
  },
  {
   "cell_type": "code",
   "execution_count": 44,
   "id": "eaa1a290",
   "metadata": {},
   "outputs": [
    {
     "data": {
      "text/html": [
       "<div>\n",
       "<style scoped>\n",
       "    .dataframe tbody tr th:only-of-type {\n",
       "        vertical-align: middle;\n",
       "    }\n",
       "\n",
       "    .dataframe tbody tr th {\n",
       "        vertical-align: top;\n",
       "    }\n",
       "\n",
       "    .dataframe thead th {\n",
       "        text-align: right;\n",
       "    }\n",
       "</style>\n",
       "<table border=\"1\" class=\"dataframe\">\n",
       "  <thead>\n",
       "    <tr style=\"text-align: right;\">\n",
       "      <th>loyalty_flag</th>\n",
       "      <th>Loyal_customer</th>\n",
       "      <th>New_customer</th>\n",
       "      <th>Regular_customer</th>\n",
       "    </tr>\n",
       "    <tr>\n",
       "      <th>region</th>\n",
       "      <th></th>\n",
       "      <th></th>\n",
       "      <th></th>\n",
       "    </tr>\n",
       "  </thead>\n",
       "  <tbody>\n",
       "    <tr>\n",
       "      <th>Midwest_region</th>\n",
       "      <td>3991</td>\n",
       "      <td>26333</td>\n",
       "      <td>18195</td>\n",
       "    </tr>\n",
       "    <tr>\n",
       "      <th>Northeast_region</th>\n",
       "      <td>3027</td>\n",
       "      <td>19869</td>\n",
       "      <td>13492</td>\n",
       "    </tr>\n",
       "    <tr>\n",
       "      <th>South_region</th>\n",
       "      <td>5637</td>\n",
       "      <td>37491</td>\n",
       "      <td>25609</td>\n",
       "    </tr>\n",
       "    <tr>\n",
       "      <th>West_region</th>\n",
       "      <td>4362</td>\n",
       "      <td>28635</td>\n",
       "      <td>19568</td>\n",
       "    </tr>\n",
       "  </tbody>\n",
       "</table>\n",
       "</div>"
      ],
      "text/plain": [
       "loyalty_flag      Loyal_customer  New_customer  Regular_customer\n",
       "region                                                          \n",
       "Midwest_region              3991         26333             18195\n",
       "Northeast_region            3027         19869             13492\n",
       "South_region                5637         37491             25609\n",
       "West_region                 4362         28635             19568"
      ]
     },
     "execution_count": 44,
     "metadata": {},
     "output_type": "execute_result"
    }
   ],
   "source": [
    "xtab_region_loyalty = pd.crosstab(region_spend_loya_freq['region'], region_spend_loya_freq['loyalty_flag'], dropna=False)\n",
    "xtab_region_loyalty"
   ]
  },
  {
   "cell_type": "code",
   "execution_count": 45,
   "id": "ba573100",
   "metadata": {},
   "outputs": [
    {
     "data": {
      "image/png": "[encoded data removed]",
      "text/plain": [
       "<Figure size 432x288 with 1 Axes>"
      ]
     },
     "metadata": {
      "needs_background": "light"
     },
     "output_type": "display_data"
    }
   ],
   "source": [
    "region_loyalty_plot = xtab_region_loyalty.plot(kind='bar', stacked=True)"
   ]
  },
  {
   "cell_type": "code",
   "execution_count": 46,
   "id": "d1bed87a",
   "metadata": {},
   "outputs": [
    {
     "data": {
      "text/html": [
       "<div>\n",
       "<style scoped>\n",
       "    .dataframe tbody tr th:only-of-type {\n",
       "        vertical-align: middle;\n",
       "    }\n",
       "\n",
       "    .dataframe tbody tr th {\n",
       "        vertical-align: top;\n",
       "    }\n",
       "\n",
       "    .dataframe thead th {\n",
       "        text-align: right;\n",
       "    }\n",
       "</style>\n",
       "<table border=\"1\" class=\"dataframe\">\n",
       "  <thead>\n",
       "    <tr style=\"text-align: right;\">\n",
       "      <th>frequency_flag</th>\n",
       "      <th>Frequent customer</th>\n",
       "      <th>Non-frequent customer</th>\n",
       "      <th>Regular customer</th>\n",
       "    </tr>\n",
       "    <tr>\n",
       "      <th>region</th>\n",
       "      <th></th>\n",
       "      <th></th>\n",
       "      <th></th>\n",
       "    </tr>\n",
       "  </thead>\n",
       "  <tbody>\n",
       "    <tr>\n",
       "      <th>Midwest_region</th>\n",
       "      <td>24246</td>\n",
       "      <td>10227</td>\n",
       "      <td>14046</td>\n",
       "    </tr>\n",
       "    <tr>\n",
       "      <th>Northeast_region</th>\n",
       "      <td>18294</td>\n",
       "      <td>7581</td>\n",
       "      <td>10513</td>\n",
       "    </tr>\n",
       "    <tr>\n",
       "      <th>South_region</th>\n",
       "      <td>34438</td>\n",
       "      <td>14521</td>\n",
       "      <td>19778</td>\n",
       "    </tr>\n",
       "    <tr>\n",
       "      <th>West_region</th>\n",
       "      <td>26468</td>\n",
       "      <td>10950</td>\n",
       "      <td>15147</td>\n",
       "    </tr>\n",
       "  </tbody>\n",
       "</table>\n",
       "</div>"
      ],
      "text/plain": [
       "frequency_flag    Frequent customer  Non-frequent customer  Regular customer\n",
       "region                                                                      \n",
       "Midwest_region                24246                  10227             14046\n",
       "Northeast_region              18294                   7581             10513\n",
       "South_region                  34438                  14521             19778\n",
       "West_region                   26468                  10950             15147"
      ]
     },
     "execution_count": 46,
     "metadata": {},
     "output_type": "execute_result"
    }
   ],
   "source": [
    "xtab_region_frequency = pd.crosstab(region_spend_loya_freq['region'], region_spend_loya_freq['frequency_flag'], dropna=False)\n",
    "xtab_region_frequency"
   ]
  },
  {
   "cell_type": "code",
   "execution_count": 47,
   "id": "93b46799",
   "metadata": {},
   "outputs": [
    {
     "data": {
      "image/png": "[encoded data removed]",
      "text/plain": [
       "<Figure size 432x288 with 1 Axes>"
      ]
     },
     "metadata": {
      "needs_background": "light"
     },
     "output_type": "display_data"
    }
   ],
   "source": [
    "region_loyalty_frequency = xtab_region_frequency.plot(kind='bar', stacked=True)"
   ]
  },
  {
   "cell_type": "markdown",
   "id": "6e524842",
   "metadata": {},
   "source": [
    "###  Key Question 8:"
   ]
  },
  {
   "cell_type": "code",
   "execution_count": 52,
   "id": "279dd197",
   "metadata": {},
   "outputs": [
    {
     "data": {
      "text/html": [
       "<div>\n",
       "<style scoped>\n",
       "    .dataframe tbody tr th:only-of-type {\n",
       "        vertical-align: middle;\n",
       "    }\n",
       "\n",
       "    .dataframe tbody tr th {\n",
       "        vertical-align: top;\n",
       "    }\n",
       "\n",
       "    .dataframe thead th {\n",
       "        text-align: right;\n",
       "    }\n",
       "</style>\n",
       "<table border=\"1\" class=\"dataframe\">\n",
       "  <thead>\n",
       "    <tr style=\"text-align: right;\">\n",
       "      <th></th>\n",
       "      <th>age_group</th>\n",
       "      <th>family_status</th>\n",
       "      <th>spending_flag</th>\n",
       "      <th>loyalty_flag</th>\n",
       "      <th>frequency_flag</th>\n",
       "    </tr>\n",
       "    <tr>\n",
       "      <th>user_id</th>\n",
       "      <th></th>\n",
       "      <th></th>\n",
       "      <th></th>\n",
       "      <th></th>\n",
       "      <th></th>\n",
       "    </tr>\n",
       "  </thead>\n",
       "  <tbody>\n",
       "    <tr>\n",
       "      <th>1</th>\n",
       "      <td>30-40</td>\n",
       "      <td>married</td>\n",
       "      <td>Low spender</td>\n",
       "      <td>New_customer</td>\n",
       "      <td>Regular customer</td>\n",
       "    </tr>\n",
       "    <tr>\n",
       "      <th>2</th>\n",
       "      <td>60-70</td>\n",
       "      <td>married</td>\n",
       "      <td>Low spender</td>\n",
       "      <td>Regular_customer</td>\n",
       "      <td>Regular customer</td>\n",
       "    </tr>\n",
       "    <tr>\n",
       "      <th>3</th>\n",
       "      <td>30-40</td>\n",
       "      <td>married</td>\n",
       "      <td>Low spender</td>\n",
       "      <td>Regular_customer</td>\n",
       "      <td>Frequent customer</td>\n",
       "    </tr>\n",
       "    <tr>\n",
       "      <th>4</th>\n",
       "      <td>30-40</td>\n",
       "      <td>married</td>\n",
       "      <td>Low spender</td>\n",
       "      <td>New_customer</td>\n",
       "      <td>Regular customer</td>\n",
       "    </tr>\n",
       "    <tr>\n",
       "      <th>5</th>\n",
       "      <td>70-80</td>\n",
       "      <td>divorced/widowed</td>\n",
       "      <td>Low spender</td>\n",
       "      <td>New_customer</td>\n",
       "      <td>Regular customer</td>\n",
       "    </tr>\n",
       "  </tbody>\n",
       "</table>\n",
       "</div>"
      ],
      "text/plain": [
       "        age_group     family_status spending_flag      loyalty_flag  \\\n",
       "user_id                                                               \n",
       "1           30-40           married   Low spender      New_customer   \n",
       "2           60-70           married   Low spender  Regular_customer   \n",
       "3           30-40           married   Low spender  Regular_customer   \n",
       "4           30-40           married   Low spender      New_customer   \n",
       "5           70-80  divorced/widowed   Low spender      New_customer   \n",
       "\n",
       "            frequency_flag  \n",
       "user_id                     \n",
       "1         Regular customer  \n",
       "2         Regular customer  \n",
       "3        Frequent customer  \n",
       "4         Regular customer  \n",
       "5         Regular customer  "
      ]
     },
     "execution_count": 52,
     "metadata": {},
     "output_type": "execute_result"
    }
   ],
   "source": [
    "# connection between age and family status in terms of ordering habits\n",
    "age_famistatus_loyalty_frequency_spending = df_merged.groupby('user_id').agg({'age_group': 'max', \n",
    "                                    'family_status': 'max','spending_flag':'max','loyalty_flag': 'max', 'frequency_flag':'max'})\n",
    "age_famistatus_loyalty_frequency_spending.head()"
   ]
  },
  {
   "cell_type": "code",
   "execution_count": 54,
   "id": "5e223631",
   "metadata": {},
   "outputs": [
    {
     "data": {
      "image/png": "[encoded data removed]",
      "text/plain": [
       "<Figure size 432x288 with 1 Axes>"
      ]
     },
     "metadata": {
      "needs_background": "light"
     },
     "output_type": "display_data"
    }
   ],
   "source": [
    "# age_group frequency in customers\n",
    "age_group_counts = age_famistatus_loyalty_frequency_spending['age_group'].value_counts().plot.bar()"
   ]
  },
  {
   "cell_type": "code",
   "execution_count": 62,
   "id": "80f64125",
   "metadata": {},
   "outputs": [
    {
     "data": {
      "image/png": "[encoded data removed]",
      "text/plain": [
       "<Figure size 432x288 with 1 Axes>"
      ]
     },
     "metadata": {},
     "output_type": "display_data"
    }
   ],
   "source": [
    "# family_status frequency in customers\n",
    "explode = (0, 0, 0, 0.1)\n",
    "family_status_counts_plot = age_famistatus_loyalty_frequency_spending['family_status'].value_counts().plot.pie(autopct='%1.1f%%',\n",
    "        shadow=True, startangle=90, explode = explode)\n"
   ]
  },
  {
   "cell_type": "code",
   "execution_count": 58,
   "id": "9bf2ec65",
   "metadata": {},
   "outputs": [
    {
     "data": {
      "text/plain": [
       "206209"
      ]
     },
     "execution_count": 58,
     "metadata": {},
     "output_type": "execute_result"
    }
   ],
   "source": [
    "144906+33962+17640+9701"
   ]
  },
  {
   "cell_type": "code",
   "execution_count": 69,
   "id": "828e39fb",
   "metadata": {},
   "outputs": [
    {
     "data": {
      "text/html": [
       "<div>\n",
       "<style scoped>\n",
       "    .dataframe tbody tr th:only-of-type {\n",
       "        vertical-align: middle;\n",
       "    }\n",
       "\n",
       "    .dataframe tbody tr th {\n",
       "        vertical-align: top;\n",
       "    }\n",
       "\n",
       "    .dataframe thead th {\n",
       "        text-align: right;\n",
       "    }\n",
       "</style>\n",
       "<table border=\"1\" class=\"dataframe\">\n",
       "  <thead>\n",
       "    <tr style=\"text-align: right;\">\n",
       "      <th>family_status</th>\n",
       "      <th>divorced/widowed</th>\n",
       "      <th>living with parents and siblings</th>\n",
       "      <th>married</th>\n",
       "      <th>single</th>\n",
       "    </tr>\n",
       "    <tr>\n",
       "      <th>age_group</th>\n",
       "      <th></th>\n",
       "      <th></th>\n",
       "      <th></th>\n",
       "      <th></th>\n",
       "    </tr>\n",
       "  </thead>\n",
       "  <tbody>\n",
       "    <tr>\n",
       "      <th>20-30</th>\n",
       "      <td>0</td>\n",
       "      <td>4802</td>\n",
       "      <td>19252</td>\n",
       "      <td>8090</td>\n",
       "    </tr>\n",
       "    <tr>\n",
       "      <th>30-40</th>\n",
       "      <td>0</td>\n",
       "      <td>0</td>\n",
       "      <td>24028</td>\n",
       "      <td>8070</td>\n",
       "    </tr>\n",
       "    <tr>\n",
       "      <th>40-50</th>\n",
       "      <td>0</td>\n",
       "      <td>0</td>\n",
       "      <td>24386</td>\n",
       "      <td>8123</td>\n",
       "    </tr>\n",
       "    <tr>\n",
       "      <th>50-60</th>\n",
       "      <td>0</td>\n",
       "      <td>0</td>\n",
       "      <td>24153</td>\n",
       "      <td>8054</td>\n",
       "    </tr>\n",
       "    <tr>\n",
       "      <th>60-70</th>\n",
       "      <td>7978</td>\n",
       "      <td>0</td>\n",
       "      <td>23988</td>\n",
       "      <td>0</td>\n",
       "    </tr>\n",
       "    <tr>\n",
       "      <th>70-80</th>\n",
       "      <td>8005</td>\n",
       "      <td>0</td>\n",
       "      <td>24298</td>\n",
       "      <td>0</td>\n",
       "    </tr>\n",
       "    <tr>\n",
       "      <th>&lt;20</th>\n",
       "      <td>0</td>\n",
       "      <td>4899</td>\n",
       "      <td>0</td>\n",
       "      <td>1625</td>\n",
       "    </tr>\n",
       "    <tr>\n",
       "      <th>&gt;80</th>\n",
       "      <td>1657</td>\n",
       "      <td>0</td>\n",
       "      <td>4801</td>\n",
       "      <td>0</td>\n",
       "    </tr>\n",
       "  </tbody>\n",
       "</table>\n",
       "</div>"
      ],
      "text/plain": [
       "family_status  divorced/widowed  living with parents and siblings  married  \\\n",
       "age_group                                                                    \n",
       "20-30                         0                              4802    19252   \n",
       "30-40                         0                                 0    24028   \n",
       "40-50                         0                                 0    24386   \n",
       "50-60                         0                                 0    24153   \n",
       "60-70                      7978                                 0    23988   \n",
       "70-80                      8005                                 0    24298   \n",
       "<20                           0                              4899        0   \n",
       ">80                        1657                                 0     4801   \n",
       "\n",
       "family_status  single  \n",
       "age_group              \n",
       "20-30            8090  \n",
       "30-40            8070  \n",
       "40-50            8123  \n",
       "50-60            8054  \n",
       "60-70               0  \n",
       "70-80               0  \n",
       "<20              1625  \n",
       ">80                 0  "
      ]
     },
     "execution_count": 69,
     "metadata": {},
     "output_type": "execute_result"
    }
   ],
   "source": [
    "xtab_age_familstatus = pd.crosstab(age_famistatus_loyalty_frequency_spending['age_group'], \n",
    "                                           age_famistatus_loyalty_frequency_spending['family_status'], \n",
    "                                           dropna=False)\n",
    "xtab_age_familstatus"
   ]
  },
  {
   "cell_type": "code",
   "execution_count": 70,
   "id": "1e343d06",
   "metadata": {},
   "outputs": [
    {
     "data": {
      "image/png": "[encoded data removed]",
      "text/plain": [
       "<Figure size 432x288 with 1 Axes>"
      ]
     },
     "metadata": {
      "needs_background": "light"
     },
     "output_type": "display_data"
    }
   ],
   "source": [
    "xtab_age_familstatus_plot = xtab_age_familstatus.plot(kind='bar', stacked=False)"
   ]
  },
  {
   "cell_type": "code",
   "execution_count": 72,
   "id": "349c7aa8",
   "metadata": {},
   "outputs": [
    {
     "data": {
      "text/html": [
       "<div>\n",
       "<style scoped>\n",
       "    .dataframe tbody tr th:only-of-type {\n",
       "        vertical-align: middle;\n",
       "    }\n",
       "\n",
       "    .dataframe tbody tr th {\n",
       "        vertical-align: top;\n",
       "    }\n",
       "\n",
       "    .dataframe thead th {\n",
       "        text-align: right;\n",
       "    }\n",
       "</style>\n",
       "<table border=\"1\" class=\"dataframe\">\n",
       "  <thead>\n",
       "    <tr style=\"text-align: right;\">\n",
       "      <th>loyalty_flag</th>\n",
       "      <th>Loyal_customer</th>\n",
       "      <th>New_customer</th>\n",
       "      <th>Regular_customer</th>\n",
       "    </tr>\n",
       "    <tr>\n",
       "      <th>age_group</th>\n",
       "      <th></th>\n",
       "      <th></th>\n",
       "      <th></th>\n",
       "    </tr>\n",
       "  </thead>\n",
       "  <tbody>\n",
       "    <tr>\n",
       "      <th>20-30</th>\n",
       "      <td>2618</td>\n",
       "      <td>17554</td>\n",
       "      <td>11972</td>\n",
       "    </tr>\n",
       "    <tr>\n",
       "      <th>30-40</th>\n",
       "      <td>2617</td>\n",
       "      <td>17499</td>\n",
       "      <td>11982</td>\n",
       "    </tr>\n",
       "    <tr>\n",
       "      <th>40-50</th>\n",
       "      <td>2714</td>\n",
       "      <td>17671</td>\n",
       "      <td>12124</td>\n",
       "    </tr>\n",
       "    <tr>\n",
       "      <th>50-60</th>\n",
       "      <td>2695</td>\n",
       "      <td>17584</td>\n",
       "      <td>11928</td>\n",
       "    </tr>\n",
       "    <tr>\n",
       "      <th>60-70</th>\n",
       "      <td>2633</td>\n",
       "      <td>17488</td>\n",
       "      <td>11845</td>\n",
       "    </tr>\n",
       "    <tr>\n",
       "      <th>70-80</th>\n",
       "      <td>2649</td>\n",
       "      <td>17469</td>\n",
       "      <td>12185</td>\n",
       "    </tr>\n",
       "    <tr>\n",
       "      <th>&lt;20</th>\n",
       "      <td>517</td>\n",
       "      <td>3590</td>\n",
       "      <td>2417</td>\n",
       "    </tr>\n",
       "    <tr>\n",
       "      <th>&gt;80</th>\n",
       "      <td>574</td>\n",
       "      <td>3473</td>\n",
       "      <td>2411</td>\n",
       "    </tr>\n",
       "  </tbody>\n",
       "</table>\n",
       "</div>"
      ],
      "text/plain": [
       "loyalty_flag  Loyal_customer  New_customer  Regular_customer\n",
       "age_group                                                   \n",
       "20-30                   2618         17554             11972\n",
       "30-40                   2617         17499             11982\n",
       "40-50                   2714         17671             12124\n",
       "50-60                   2695         17584             11928\n",
       "60-70                   2633         17488             11845\n",
       "70-80                   2649         17469             12185\n",
       "<20                      517          3590              2417\n",
       ">80                      574          3473              2411"
      ]
     },
     "execution_count": 72,
     "metadata": {},
     "output_type": "execute_result"
    }
   ],
   "source": [
    "xtab_age_loyalty = pd.crosstab(age_famistatus_loyalty_frequency_spending['age_group'], \n",
    "                                           age_famistatus_loyalty_frequency_spending['loyalty_flag'], \n",
    "                                           dropna=False)\n",
    "xtab_age_loyalty"
   ]
  },
  {
   "cell_type": "code",
   "execution_count": 73,
   "id": "acf7a675",
   "metadata": {},
   "outputs": [
    {
     "data": {
      "image/png": "[encoded data removed]",
      "text/plain": [
       "<Figure size 432x288 with 1 Axes>"
      ]
     },
     "metadata": {
      "needs_background": "light"
     },
     "output_type": "display_data"
    }
   ],
   "source": [
    "age_loyalty_plot = xtab_age_loyalty.plot(kind='bar', stacked=False)"
   ]
  },
  {
   "cell_type": "code",
   "execution_count": 74,
   "id": "9fa5d984",
   "metadata": {},
   "outputs": [
    {
     "data": {
      "text/html": [
       "<div>\n",
       "<style scoped>\n",
       "    .dataframe tbody tr th:only-of-type {\n",
       "        vertical-align: middle;\n",
       "    }\n",
       "\n",
       "    .dataframe tbody tr th {\n",
       "        vertical-align: top;\n",
       "    }\n",
       "\n",
       "    .dataframe thead th {\n",
       "        text-align: right;\n",
       "    }\n",
       "</style>\n",
       "<table border=\"1\" class=\"dataframe\">\n",
       "  <thead>\n",
       "    <tr style=\"text-align: right;\">\n",
       "      <th>loyalty_flag</th>\n",
       "      <th>Loyal_customer</th>\n",
       "      <th>New_customer</th>\n",
       "      <th>Regular_customer</th>\n",
       "    </tr>\n",
       "    <tr>\n",
       "      <th>family_status</th>\n",
       "      <th></th>\n",
       "      <th></th>\n",
       "      <th></th>\n",
       "    </tr>\n",
       "  </thead>\n",
       "  <tbody>\n",
       "    <tr>\n",
       "      <th>divorced/widowed</th>\n",
       "      <td>1452</td>\n",
       "      <td>9590</td>\n",
       "      <td>6598</td>\n",
       "    </tr>\n",
       "    <tr>\n",
       "      <th>living with parents and siblings</th>\n",
       "      <td>810</td>\n",
       "      <td>5255</td>\n",
       "      <td>3636</td>\n",
       "    </tr>\n",
       "    <tr>\n",
       "      <th>married</th>\n",
       "      <td>11940</td>\n",
       "      <td>78942</td>\n",
       "      <td>54024</td>\n",
       "    </tr>\n",
       "    <tr>\n",
       "      <th>single</th>\n",
       "      <td>2815</td>\n",
       "      <td>18541</td>\n",
       "      <td>12606</td>\n",
       "    </tr>\n",
       "  </tbody>\n",
       "</table>\n",
       "</div>"
      ],
      "text/plain": [
       "loyalty_flag                      Loyal_customer  New_customer  \\\n",
       "family_status                                                    \n",
       "divorced/widowed                            1452          9590   \n",
       "living with parents and siblings             810          5255   \n",
       "married                                    11940         78942   \n",
       "single                                      2815         18541   \n",
       "\n",
       "loyalty_flag                      Regular_customer  \n",
       "family_status                                       \n",
       "divorced/widowed                              6598  \n",
       "living with parents and siblings              3636  \n",
       "married                                      54024  \n",
       "single                                       12606  "
      ]
     },
     "execution_count": 74,
     "metadata": {},
     "output_type": "execute_result"
    }
   ],
   "source": [
    "xtab_familstatus_loyalty = pd.crosstab(age_famistatus_loyalty_frequency_spending['family_status'], \n",
    "                                           age_famistatus_loyalty_frequency_spending['loyalty_flag'], \n",
    "                                           dropna=False)\n",
    "xtab_familstatus_loyalty"
   ]
  },
  {
   "cell_type": "code",
   "execution_count": 75,
   "id": "7ad5e808",
   "metadata": {},
   "outputs": [
    {
     "data": {
      "image/png": "[encoded data removed]",
      "text/plain": [
       "<Figure size 432x288 with 1 Axes>"
      ]
     },
     "metadata": {
      "needs_background": "light"
     },
     "output_type": "display_data"
    }
   ],
   "source": [
    "familstatus_loyalty = xtab_familstatus_loyalty.plot(kind='bar', stacked=False)"
   ]
  },
  {
   "cell_type": "markdown",
   "id": "4d676e93",
   "metadata": {},
   "source": [
    "### Key Question 9: \n"
   ]
  },
  {
   "cell_type": "code",
   "execution_count": null,
   "id": "5f88d0ca",
   "metadata": {},
   "outputs": [],
   "source": [
    "# prepared in part 1 script"
   ]
  },
  {
   "cell_type": "markdown",
   "id": "199c370b",
   "metadata": {},
   "source": [
    "### key Question 10:"
   ]
  },
  {
   "cell_type": "code",
   "execution_count": 78,
   "id": "4852f255",
   "metadata": {},
   "outputs": [
    {
     "data": {
      "text/html": [
       "<div>\n",
       "<style scoped>\n",
       "    .dataframe tbody tr th:only-of-type {\n",
       "        vertical-align: middle;\n",
       "    }\n",
       "\n",
       "    .dataframe tbody tr th {\n",
       "        vertical-align: top;\n",
       "    }\n",
       "\n",
       "    .dataframe thead th {\n",
       "        text-align: right;\n",
       "    }\n",
       "</style>\n",
       "<table border=\"1\" class=\"dataframe\">\n",
       "  <thead>\n",
       "    <tr style=\"text-align: right;\">\n",
       "      <th>spending_flag</th>\n",
       "      <th>High spender</th>\n",
       "      <th>Low spender</th>\n",
       "    </tr>\n",
       "    <tr>\n",
       "      <th>age_group</th>\n",
       "      <th></th>\n",
       "      <th></th>\n",
       "    </tr>\n",
       "  </thead>\n",
       "  <tbody>\n",
       "    <tr>\n",
       "      <th>20-30</th>\n",
       "      <td>806</td>\n",
       "      <td>31338</td>\n",
       "    </tr>\n",
       "    <tr>\n",
       "      <th>30-40</th>\n",
       "      <td>844</td>\n",
       "      <td>31254</td>\n",
       "    </tr>\n",
       "    <tr>\n",
       "      <th>40-50</th>\n",
       "      <td>886</td>\n",
       "      <td>31623</td>\n",
       "    </tr>\n",
       "    <tr>\n",
       "      <th>50-60</th>\n",
       "      <td>872</td>\n",
       "      <td>31335</td>\n",
       "    </tr>\n",
       "    <tr>\n",
       "      <th>60-70</th>\n",
       "      <td>814</td>\n",
       "      <td>31152</td>\n",
       "    </tr>\n",
       "    <tr>\n",
       "      <th>70-80</th>\n",
       "      <td>811</td>\n",
       "      <td>31492</td>\n",
       "    </tr>\n",
       "    <tr>\n",
       "      <th>&lt;20</th>\n",
       "      <td>169</td>\n",
       "      <td>6355</td>\n",
       "    </tr>\n",
       "    <tr>\n",
       "      <th>&gt;80</th>\n",
       "      <td>155</td>\n",
       "      <td>6303</td>\n",
       "    </tr>\n",
       "  </tbody>\n",
       "</table>\n",
       "</div>"
      ],
      "text/plain": [
       "spending_flag  High spender  Low spender\n",
       "age_group                               \n",
       "20-30                   806        31338\n",
       "30-40                   844        31254\n",
       "40-50                   886        31623\n",
       "50-60                   872        31335\n",
       "60-70                   814        31152\n",
       "70-80                   811        31492\n",
       "<20                     169         6355\n",
       ">80                     155         6303"
      ]
     },
     "execution_count": 78,
     "metadata": {},
     "output_type": "execute_result"
    }
   ],
   "source": [
    "#  differences in ordering habits of different customer profiles\n",
    "xtab_age_spending = pd.crosstab(age_famistatus_loyalty_frequency_spending['age_group'], \n",
    "                                           age_famistatus_loyalty_frequency_spending['spending_flag'], \n",
    "                                           dropna=False)\n",
    "xtab_age_spending"
   ]
  },
  {
   "cell_type": "code",
   "execution_count": 79,
   "id": "a6971b53",
   "metadata": {},
   "outputs": [
    {
     "data": {
      "image/png": "[encoded data removed]",
      "text/plain": [
       "<Figure size 432x288 with 1 Axes>"
      ]
     },
     "metadata": {
      "needs_background": "light"
     },
     "output_type": "display_data"
    }
   ],
   "source": [
    "xtab_age_spending_plot = xtab_age_spending.plot(kind='bar', stacked=False)"
   ]
  },
  {
   "cell_type": "code",
   "execution_count": 80,
   "id": "b7dfa510",
   "metadata": {},
   "outputs": [
    {
     "data": {
      "text/html": [
       "<div>\n",
       "<style scoped>\n",
       "    .dataframe tbody tr th:only-of-type {\n",
       "        vertical-align: middle;\n",
       "    }\n",
       "\n",
       "    .dataframe tbody tr th {\n",
       "        vertical-align: top;\n",
       "    }\n",
       "\n",
       "    .dataframe thead th {\n",
       "        text-align: right;\n",
       "    }\n",
       "</style>\n",
       "<table border=\"1\" class=\"dataframe\">\n",
       "  <thead>\n",
       "    <tr style=\"text-align: right;\">\n",
       "      <th>frequency_flag</th>\n",
       "      <th>Frequent customer</th>\n",
       "      <th>Non-frequent customer</th>\n",
       "      <th>Regular customer</th>\n",
       "    </tr>\n",
       "    <tr>\n",
       "      <th>age_group</th>\n",
       "      <th></th>\n",
       "      <th></th>\n",
       "      <th></th>\n",
       "    </tr>\n",
       "  </thead>\n",
       "  <tbody>\n",
       "    <tr>\n",
       "      <th>20-30</th>\n",
       "      <td>16113</td>\n",
       "      <td>6791</td>\n",
       "      <td>9240</td>\n",
       "    </tr>\n",
       "    <tr>\n",
       "      <th>30-40</th>\n",
       "      <td>15962</td>\n",
       "      <td>6777</td>\n",
       "      <td>9359</td>\n",
       "    </tr>\n",
       "    <tr>\n",
       "      <th>40-50</th>\n",
       "      <td>16350</td>\n",
       "      <td>6894</td>\n",
       "      <td>9265</td>\n",
       "    </tr>\n",
       "    <tr>\n",
       "      <th>50-60</th>\n",
       "      <td>16195</td>\n",
       "      <td>6649</td>\n",
       "      <td>9363</td>\n",
       "    </tr>\n",
       "    <tr>\n",
       "      <th>60-70</th>\n",
       "      <td>15949</td>\n",
       "      <td>6729</td>\n",
       "      <td>9288</td>\n",
       "    </tr>\n",
       "    <tr>\n",
       "      <th>70-80</th>\n",
       "      <td>16346</td>\n",
       "      <td>6725</td>\n",
       "      <td>9232</td>\n",
       "    </tr>\n",
       "    <tr>\n",
       "      <th>&lt;20</th>\n",
       "      <td>3238</td>\n",
       "      <td>1402</td>\n",
       "      <td>1884</td>\n",
       "    </tr>\n",
       "    <tr>\n",
       "      <th>&gt;80</th>\n",
       "      <td>3293</td>\n",
       "      <td>1312</td>\n",
       "      <td>1853</td>\n",
       "    </tr>\n",
       "  </tbody>\n",
       "</table>\n",
       "</div>"
      ],
      "text/plain": [
       "frequency_flag  Frequent customer  Non-frequent customer  Regular customer\n",
       "age_group                                                                 \n",
       "20-30                       16113                   6791              9240\n",
       "30-40                       15962                   6777              9359\n",
       "40-50                       16350                   6894              9265\n",
       "50-60                       16195                   6649              9363\n",
       "60-70                       15949                   6729              9288\n",
       "70-80                       16346                   6725              9232\n",
       "<20                          3238                   1402              1884\n",
       ">80                          3293                   1312              1853"
      ]
     },
     "execution_count": 80,
     "metadata": {},
     "output_type": "execute_result"
    }
   ],
   "source": [
    "xtab_age_frequency = pd.crosstab(age_famistatus_loyalty_frequency_spending['age_group'], \n",
    "                                           age_famistatus_loyalty_frequency_spending['frequency_flag'], \n",
    "                                           dropna=False)\n",
    "xtab_age_frequency"
   ]
  },
  {
   "cell_type": "code",
   "execution_count": 81,
   "id": "568fab24",
   "metadata": {},
   "outputs": [
    {
     "data": {
      "image/png": "[encoded data removed]",
      "text/plain": [
       "<Figure size 432x288 with 1 Axes>"
      ]
     },
     "metadata": {
      "needs_background": "light"
     },
     "output_type": "display_data"
    }
   ],
   "source": [
    "xtab_age_frequency_plot = xtab_age_frequency.plot(kind = 'bar', stacked = False)"
   ]
  },
  {
   "cell_type": "code",
   "execution_count": 82,
   "id": "16daabac",
   "metadata": {},
   "outputs": [
    {
     "data": {
      "text/html": [
       "<div>\n",
       "<style scoped>\n",
       "    .dataframe tbody tr th:only-of-type {\n",
       "        vertical-align: middle;\n",
       "    }\n",
       "\n",
       "    .dataframe tbody tr th {\n",
       "        vertical-align: top;\n",
       "    }\n",
       "\n",
       "    .dataframe thead th {\n",
       "        text-align: right;\n",
       "    }\n",
       "</style>\n",
       "<table border=\"1\" class=\"dataframe\">\n",
       "  <thead>\n",
       "    <tr style=\"text-align: right;\">\n",
       "      <th>spending_flag</th>\n",
       "      <th>High spender</th>\n",
       "      <th>Low spender</th>\n",
       "    </tr>\n",
       "    <tr>\n",
       "      <th>family_status</th>\n",
       "      <th></th>\n",
       "      <th></th>\n",
       "    </tr>\n",
       "  </thead>\n",
       "  <tbody>\n",
       "    <tr>\n",
       "      <th>divorced/widowed</th>\n",
       "      <td>444</td>\n",
       "      <td>17196</td>\n",
       "    </tr>\n",
       "    <tr>\n",
       "      <th>living with parents and siblings</th>\n",
       "      <td>244</td>\n",
       "      <td>9457</td>\n",
       "    </tr>\n",
       "    <tr>\n",
       "      <th>married</th>\n",
       "      <td>3764</td>\n",
       "      <td>141142</td>\n",
       "    </tr>\n",
       "    <tr>\n",
       "      <th>single</th>\n",
       "      <td>905</td>\n",
       "      <td>33057</td>\n",
       "    </tr>\n",
       "  </tbody>\n",
       "</table>\n",
       "</div>"
      ],
      "text/plain": [
       "spending_flag                     High spender  Low spender\n",
       "family_status                                              \n",
       "divorced/widowed                           444        17196\n",
       "living with parents and siblings           244         9457\n",
       "married                                   3764       141142\n",
       "single                                     905        33057"
      ]
     },
     "execution_count": 82,
     "metadata": {},
     "output_type": "execute_result"
    }
   ],
   "source": [
    "xtab_familstatus_spending = pd.crosstab(age_famistatus_loyalty_frequency_spending['family_status'], \n",
    "                                           age_famistatus_loyalty_frequency_spending['spending_flag'], \n",
    "                                           dropna=False)\n",
    "xtab_familstatus_spending"
   ]
  },
  {
   "cell_type": "code",
   "execution_count": 83,
   "id": "9ef76656",
   "metadata": {},
   "outputs": [
    {
     "data": {
      "image/png": "[encoded data removed]",
      "text/plain": [
       "<Figure size 432x288 with 1 Axes>"
      ]
     },
     "metadata": {
      "needs_background": "light"
     },
     "output_type": "display_data"
    }
   ],
   "source": [
    "xtab_familstatus_spending_plot = xtab_familstatus_spending.plot(kind = 'bar', stacked = False)"
   ]
  },
  {
   "cell_type": "code",
   "execution_count": 84,
   "id": "5449bb34",
   "metadata": {},
   "outputs": [
    {
     "data": {
      "text/html": [
       "<div>\n",
       "<style scoped>\n",
       "    .dataframe tbody tr th:only-of-type {\n",
       "        vertical-align: middle;\n",
       "    }\n",
       "\n",
       "    .dataframe tbody tr th {\n",
       "        vertical-align: top;\n",
       "    }\n",
       "\n",
       "    .dataframe thead th {\n",
       "        text-align: right;\n",
       "    }\n",
       "</style>\n",
       "<table border=\"1\" class=\"dataframe\">\n",
       "  <thead>\n",
       "    <tr style=\"text-align: right;\">\n",
       "      <th>frequency_flag</th>\n",
       "      <th>Frequent customer</th>\n",
       "      <th>Non-frequent customer</th>\n",
       "      <th>Regular customer</th>\n",
       "    </tr>\n",
       "    <tr>\n",
       "      <th>family_status</th>\n",
       "      <th></th>\n",
       "      <th></th>\n",
       "      <th></th>\n",
       "    </tr>\n",
       "  </thead>\n",
       "  <tbody>\n",
       "    <tr>\n",
       "      <th>divorced/widowed</th>\n",
       "      <td>8936</td>\n",
       "      <td>3623</td>\n",
       "      <td>5081</td>\n",
       "    </tr>\n",
       "    <tr>\n",
       "      <th>living with parents and siblings</th>\n",
       "      <td>4887</td>\n",
       "      <td>2076</td>\n",
       "      <td>2738</td>\n",
       "    </tr>\n",
       "    <tr>\n",
       "      <th>married</th>\n",
       "      <td>72702</td>\n",
       "      <td>30477</td>\n",
       "      <td>41727</td>\n",
       "    </tr>\n",
       "    <tr>\n",
       "      <th>single</th>\n",
       "      <td>16921</td>\n",
       "      <td>7103</td>\n",
       "      <td>9938</td>\n",
       "    </tr>\n",
       "  </tbody>\n",
       "</table>\n",
       "</div>"
      ],
      "text/plain": [
       "frequency_flag                    Frequent customer  Non-frequent customer  \\\n",
       "family_status                                                                \n",
       "divorced/widowed                               8936                   3623   \n",
       "living with parents and siblings               4887                   2076   \n",
       "married                                       72702                  30477   \n",
       "single                                        16921                   7103   \n",
       "\n",
       "frequency_flag                    Regular customer  \n",
       "family_status                                       \n",
       "divorced/widowed                              5081  \n",
       "living with parents and siblings              2738  \n",
       "married                                      41727  \n",
       "single                                        9938  "
      ]
     },
     "execution_count": 84,
     "metadata": {},
     "output_type": "execute_result"
    }
   ],
   "source": [
    "xtab_familstatus_frequency = pd.crosstab(age_famistatus_loyalty_frequency_spending['family_status'], \n",
    "                                           age_famistatus_loyalty_frequency_spending['frequency_flag'], \n",
    "                                           dropna=False)\n",
    "xtab_familstatus_frequency"
   ]
  },
  {
   "cell_type": "code",
   "execution_count": 85,
   "id": "1c15102e",
   "metadata": {},
   "outputs": [
    {
     "data": {
      "image/png": "[encoded data removed]",
      "text/plain": [
       "<Figure size 432x288 with 1 Axes>"
      ]
     },
     "metadata": {
      "needs_background": "light"
     },
     "output_type": "display_data"
    }
   ],
   "source": [
    "xtab_familstatus_frequency_plot = xtab_familstatus_frequency.plot(kind = 'bar', stacked = False)"
   ]
  }
 ],
 "metadata": {
  "kernelspec": {
   "display_name": "Python 3 (ipykernel)",
   "language": "python",
   "name": "python3"
  },
  "language_info": {
   "codemirror_mode": {
    "name": "ipython",
    "version": 3
   },
   "file_extension": ".py",
   "mimetype": "text/x-python",
   "name": "python",
   "nbconvert_exporter": "python",
   "pygments_lexer": "ipython3",
   "version": "3.9.12"
  }
 },
 "nbformat": 4,
 "nbformat_minor": 5
}
